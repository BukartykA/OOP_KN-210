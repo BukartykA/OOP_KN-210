{
 "cells": [
  {
   "cell_type": "markdown",
   "id": "49a77c15",
   "metadata": {},
   "source": [
    "# Моя перша програма\n",
    "Це моя перша програма на Python — виводить моє ім'я, місто та поточний час.\n"
   ]
  },
  {
   "cell_type": "code",
   "execution_count": null,
   "id": "f41cf562",
   "metadata": {
    "vscode": {
     "languageId": "plaintext"
    }
   },
   "outputs": [],
   "source": [
    "from datetime import datetime\n",
    "\n",
    "name = \"Андрій\"\n",
    "location = \"Lviv\"\n",
    "\n",
    "print(f\"{name} start programming at {datetime.now()}. {location} is the best city!\")\n"
   ]
  }
 ],
 "metadata": {
  "language_info": {
   "name": "python"
  }
 },
 "nbformat": 4,
 "nbformat_minor": 5
}
