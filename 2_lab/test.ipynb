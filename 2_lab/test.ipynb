{
 "cells": [
  {
   "cell_type": "markdown",
   "id": "a6595b96",
   "metadata": {},
   "source": [
    "# Лабораторна робота\n",
    "**Тема:** Основи програмування на Python  \n",
    "**Мета:** Навчитись основним конструкціям Python"
   ]
  },
  {
   "cell_type": "code",
   "execution_count": 10,
   "id": "f12c2ed7",
   "metadata": {},
   "outputs": [
    {
     "name": "stdout",
     "output_type": "stream",
     "text": [
      "текст 5 [1, 2, 3] {'ключ': 'значення'} (1, 2) {1, 2, 3}\n"
     ]
    }
   ],
   "source": [
    "# Типи даних\n",
    "a = \"текст\"\n",
    "b = 5\n",
    "c = [1,2,3]\n",
    "d = {\"ключ\":\"значення\"}\n",
    "e = (1,2)\n",
    "f = {1,2,3}\n",
    "print(a, b, c, d, e, f)\n"
   ]
  },
  {
   "cell_type": "markdown",
   "id": "325846ce",
   "metadata": {},
   "source": [
    "Константи / ключ. слова"
   ]
  },
  {
   "cell_type": "code",
   "execution_count": 11,
   "id": "2cb87215",
   "metadata": {},
   "outputs": [
    {
     "name": "stdout",
     "output_type": "stream",
     "text": [
      "True None\n",
      "['False', 'None', 'True', 'and', 'as', 'assert']\n"
     ]
    }
   ],
   "source": [
    "import keyword\n",
    "print(True, None)\n",
    "print(keyword.kwlist[:6])\n"
   ]
  },
  {
   "cell_type": "markdown",
   "id": "56bba307",
   "metadata": {},
   "source": [
    "Вбудовані функції"
   ]
  },
  {
   "cell_type": "code",
   "execution_count": 12,
   "id": "4fbc72e3",
   "metadata": {},
   "outputs": [
    {
     "name": "stdout",
     "output_type": "stream",
     "text": [
      "7\n",
      "6\n",
      "5\n"
     ]
    }
   ],
   "source": [
    "print(abs(-7))\n",
    "print(len(\"Python\"))\n",
    "print(max([2,5,1]))\n"
   ]
  },
  {
   "cell_type": "markdown",
   "id": "be93e236",
   "metadata": {},
   "source": [
    "Цикл for"
   ]
  },
  {
   "cell_type": "code",
   "execution_count": 13,
   "id": "f1f791a1",
   "metadata": {},
   "outputs": [
    {
     "name": "stdout",
     "output_type": "stream",
     "text": [
      "i= 0\n",
      "i= 1\n",
      "i= 2\n"
     ]
    }
   ],
   "source": [
    "for i in range(3):\n",
    "    print(\"i=\", i)\n"
   ]
  },
  {
   "cell_type": "markdown",
   "id": "05d94c6a",
   "metadata": {},
   "source": [
    "if / else"
   ]
  },
  {
   "cell_type": "code",
   "execution_count": 14,
   "id": "213498f4",
   "metadata": {},
   "outputs": [
    {
     "name": "stdout",
     "output_type": "stream",
     "text": [
      "x<=2\n"
     ]
    }
   ],
   "source": [
    "x = 2\n",
    "print(\"x>2\" if x>2 else \"x<=2\")\n"
   ]
  },
  {
   "cell_type": "markdown",
   "id": "97791bee",
   "metadata": {},
   "source": [
    "try/except/finally"
   ]
  },
  {
   "cell_type": "code",
   "execution_count": 15,
   "id": "2b48652b",
   "metadata": {},
   "outputs": [
    {
     "name": "stdout",
     "output_type": "stream",
     "text": [
      "Error: division by zero\n",
      "done\n"
     ]
    }
   ],
   "source": [
    "try:\n",
    "    10/0\n",
    "except Exception as e:\n",
    "    print(\"Error:\", e)\n",
    "finally:\n",
    "    print(\"done\")\n"
   ]
  },
  {
   "cell_type": "markdown",
   "id": "5d5fe8e5",
   "metadata": {},
   "source": [
    "with (файл)"
   ]
  },
  {
   "cell_type": "code",
   "execution_count": 16,
   "id": "a738c007",
   "metadata": {},
   "outputs": [
    {
     "name": "stdout",
     "output_type": "stream",
     "text": [
      "file saved\n"
     ]
    }
   ],
   "source": [
    "with open(\"example.txt\",\"w\",encoding=\"utf-8\") as f:\n",
    "    f.write(\"Привіт\\n\")\n",
    "print(\"file saved\")\n"
   ]
  },
  {
   "cell_type": "markdown",
   "id": "7189a783",
   "metadata": {},
   "source": [
    "Lambda"
   ]
  },
  {
   "cell_type": "code",
   "execution_count": 17,
   "id": "f610e382",
   "metadata": {},
   "outputs": [
    {
     "name": "stdout",
     "output_type": "stream",
     "text": [
      "25\n"
     ]
    }
   ],
   "source": [
    "sqr = lambda x: x*x\n",
    "print(sqr(5))\n"
   ]
  },
  {
   "cell_type": "markdown",
   "id": "0f1d781f",
   "metadata": {},
   "source": [
    "List comprehension"
   ]
  },
  {
   "cell_type": "code",
   "execution_count": 18,
   "id": "75107866",
   "metadata": {},
   "outputs": [
    {
     "name": "stdout",
     "output_type": "stream",
     "text": [
      "[1, 4, 9, 16]\n"
     ]
    }
   ],
   "source": [
    "nums = [1,2,3,4]\n",
    "print([n*n for n in nums])\n"
   ]
  },
  {
   "cell_type": "markdown",
   "id": "22696c9c",
   "metadata": {},
   "source": [
    "## Висновок\n",
    "- Що зроблено: ознайомлення з типами, циклами, умовами, файлами, лямбдами.  \n",
    "- Мета: досягнута.  \n",
    "- Складності: \n"
   ]
  }
 ],
 "metadata": {
  "kernelspec": {
   "display_name": "Python 3",
   "language": "python",
   "name": "python3"
  },
  "language_info": {
   "codemirror_mode": {
    "name": "ipython",
    "version": 3
   },
   "file_extension": ".py",
   "mimetype": "text/x-python",
   "name": "python",
   "nbconvert_exporter": "python",
   "pygments_lexer": "ipython3",
   "version": "3.13.7"
  }
 },
 "nbformat": 4,
 "nbformat_minor": 5
}
